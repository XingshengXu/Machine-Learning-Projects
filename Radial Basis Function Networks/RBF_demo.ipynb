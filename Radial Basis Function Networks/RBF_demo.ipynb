{
 "cells": [
  {
   "cell_type": "markdown",
   "metadata": {},
   "source": [
    "#### Implement Radial Basis Function Networks for Handwritten Digit Recognition"
   ]
  },
  {
   "cell_type": "markdown",
   "metadata": {},
   "source": [
    "##### 1. Radial basis function networks with 20 hidden layers on handwritten digit recognition"
   ]
  },
  {
   "cell_type": "code",
   "execution_count": 1,
   "metadata": {},
   "outputs": [],
   "source": [
    "import idx2numpy\n",
    "from Radial_Basis_Function import RBFNetworks\n",
    "from RBF_utils import *"
   ]
  },
  {
   "cell_type": "code",
   "execution_count": 2,
   "metadata": {},
   "outputs": [],
   "source": [
    "# Load Training and Testing Data Sets\n",
    "train_X = idx2numpy.convert_from_file(\n",
    "    '../dataset/train-images.idx3-ubyte')\n",
    "train_Y = idx2numpy.convert_from_file(\n",
    "    '../dataset/train-labels.idx1-ubyte')\n",
    "test_X = idx2numpy.convert_from_file(\n",
    "    '../dataset/t10k-images.idx3-ubyte')\n",
    "test_Y = idx2numpy.convert_from_file(\n",
    "    '../dataset/t10k-labels.idx1-ubyte')"
   ]
  },
  {
   "cell_type": "code",
   "execution_count": 3,
   "metadata": {},
   "outputs": [
    {
     "name": "stdout",
     "output_type": "stream",
     "text": [
      "kmeans_iterations: 0\n"
     ]
    }
   ],
   "source": [
    "# Fit the model\n",
    "model = RBFNetworks(cluster_number=20)\n",
    "model.fit(train_X, train_Y)\n",
    "\n",
    "pred_y = model.predict_label(test_X)\n",
    "\n",
    "# Plot the data\n",
    "plot_cost_vs_iteration(model)\n",
    "\n",
    "# Performance Test\n",
    "evaluate_model(test_Y, pred_y)"
   ]
  },
  {
   "cell_type": "markdown",
   "metadata": {},
   "source": [
    "##### 2. Radial basis function networks with 50 hidden layers on handwritten digit recognition"
   ]
  },
  {
   "cell_type": "code",
   "execution_count": null,
   "metadata": {},
   "outputs": [],
   "source": [
    "# Fit the model\n",
    "model = RBFNetworks(cluster_number=50)\n",
    "model.fit(train_X, train_Y)\n",
    "\n",
    "pred_y = model.predict_label(test_X)\n",
    "\n",
    "# Plot the data\n",
    "plot_cost_vs_iteration(model)\n",
    "\n",
    "# Performance Test\n",
    "evaluate_model(test_Y, pred_y)"
   ]
  }
 ],
 "metadata": {
  "kernelspec": {
   "display_name": ".venv",
   "language": "python",
   "name": "python3"
  },
  "language_info": {
   "codemirror_mode": {
    "name": "ipython",
    "version": 3
   },
   "file_extension": ".py",
   "mimetype": "text/x-python",
   "name": "python",
   "nbconvert_exporter": "python",
   "pygments_lexer": "ipython3",
   "version": "3.11.2"
  },
  "orig_nbformat": 4
 },
 "nbformat": 4,
 "nbformat_minor": 2
}
